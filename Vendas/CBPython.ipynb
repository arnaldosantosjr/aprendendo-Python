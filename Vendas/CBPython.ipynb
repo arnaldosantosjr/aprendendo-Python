{
 "cells": [
  {
   "cell_type": "markdown",
   "id": "67225249",
   "metadata": {},
   "source": [
    "# 1. Passo a passo de solução do Desafio"
   ]
  },
  {
   "cell_type": "markdown",
   "id": "05c31680",
   "metadata": {},
   "source": []
  },
  {
   "cell_type": "code",
   "execution_count": 1,
   "id": "e7028c57",
   "metadata": {},
   "outputs": [
    {
     "data": {
      "text/plain": [
       "['CBPython.ipynb', 'Vendas']"
      ]
     },
     "metadata": {},
     "output_type": "display_data"
    }
   ],
   "source": [
    "# Lógica de Programação\n",
    "\n",
    "# Passo 0 - Entender o desafio que quero resolver\n",
    "# Passo 1 - Recorrer todos os arquivos da pasta base de dados (Vendas)\n",
    "import os\n",
    "import pandas as pd\n",
    "\n",
    "lista_arquivos = os.listdir('C:/Users/Arnaldo/Documents/GitHub/aprendendo-Python/Vendas')\n",
    "display(lista_arquivos)\n",
    "\n"
   ]
  },
  {
   "cell_type": "markdown",
   "id": "07980892",
   "metadata": {},
   "source": [
    "#### Importar as bases de dados de Vendas"
   ]
  },
  {
   "cell_type": "code",
   "execution_count": 2,
   "id": "5ce81164",
   "metadata": {},
   "outputs": [
    {
     "data": {
      "text/html": [
       "<div>\n",
       "<style scoped>\n",
       "    .dataframe tbody tr th:only-of-type {\n",
       "        vertical-align: middle;\n",
       "    }\n",
       "\n",
       "    .dataframe tbody tr th {\n",
       "        vertical-align: top;\n",
       "    }\n",
       "\n",
       "    .dataframe thead th {\n",
       "        text-align: right;\n",
       "    }\n",
       "</style>\n",
       "<table border=\"1\" class=\"dataframe\">\n",
       "  <thead>\n",
       "    <tr style=\"text-align: right;\">\n",
       "      <th></th>\n",
       "    </tr>\n",
       "  </thead>\n",
       "  <tbody>\n",
       "  </tbody>\n",
       "</table>\n",
       "</div>"
      ],
      "text/plain": [
       "Empty DataFrame\n",
       "Columns: []\n",
       "Index: []"
      ]
     },
     "metadata": {},
     "output_type": "display_data"
    }
   ],
   "source": [
    "# Passo 2 - Importar as bases de dados de Vendas\n",
    "tabela_total = pd.DataFrame()\n",
    "for arquivo in lista_arquivos:\n",
    "    # Construir o caminho completo do arquivo\n",
    "    caminho_completo = os.path.join('C:/Users/Arnaldo/Documents/GitHub/aprendendo-Python/Vendas', arquivo)\n",
    "    \n",
    "    # Verificar se é um arquivo e se tem \"Vendas\" no nome\n",
    "    if os.path.isfile(caminho_completo) and 'Vendas' in arquivo:\n",
    "        display(caminho_completo)\n",
    "\n",
    "        # Importar o arquivo\n",
    "        tabela = pd.read_csv(caminho_completo)\n",
    "        tabela_total = tabela_total.append(tabela, ignore_index=True)\n",
    "\n",
    "# Exibir a tabela total\n",
    "display(tabela_total)\n",
    "\n"
   ]
  },
  {
   "cell_type": "markdown",
   "id": "3adb0220",
   "metadata": {},
   "source": [
    "#### Tratar/ Compilar as bases de dados"
   ]
  },
  {
   "cell_type": "code",
   "execution_count": 3,
   "id": "8a4ac61f",
   "metadata": {},
   "outputs": [],
   "source": [
    "# Passo 3 - Tratar/ Compilar as bases de dados\n",
    "\n",
    "\n",
    "# Passo 4 - Calcular o produto mais vendido (em quantidades)\n",
    "# Passo 5 - Calcular o produto que mais faturou (faturamento)\n",
    "# Passo 6 - Calcular a loja/cidade que mais vendeu (em faturamento) - Criar um gráfico/dashboard"
   ]
  }
 ],
 "metadata": {
  "kernelspec": {
   "display_name": "nome_do_ambiente",
   "language": "python",
   "name": "nome_do_ambiente"
  },
  "language_info": {
   "codemirror_mode": {
    "name": "ipython",
    "version": 3
   },
   "file_extension": ".py",
   "mimetype": "text/x-python",
   "name": "python",
   "nbconvert_exporter": "python",
   "pygments_lexer": "ipython3",
   "version": "3.13.2"
  }
 },
 "nbformat": 4,
 "nbformat_minor": 5
}
