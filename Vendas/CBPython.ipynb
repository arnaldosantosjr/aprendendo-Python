{
 "cells": [
  {
   "cell_type": "markdown",
   "id": "67225249",
   "metadata": {},
   "source": [
    "# 1. Passo a passo de solução do Desafio"
   ]
  },
  {
   "cell_type": "code",
   "execution_count": 1,
   "id": "e7028c57",
   "metadata": {},
   "outputs": [
    {
     "data": {
      "text/plain": [
       "['Devolucoes - Belo Horizonte.csv',\n",
       " 'Devolucoes - Curitiba.csv',\n",
       " 'Devolucoes - Fortaleza.csv',\n",
       " 'Devolucoes - Goiás.csv',\n",
       " 'Devolucoes - Porto Alegre.csv',\n",
       " 'Devolucoes - Recife.csv',\n",
       " 'Devolucoes - Rio de Janeiro.csv',\n",
       " 'Devolucoes - Salvador.csv',\n",
       " 'Devolucoes - São Paulo.csv',\n",
       " 'Vendas - Belo Horizonte.csv',\n",
       " 'Vendas - Curitiba.csv',\n",
       " 'Vendas - Fortaleza.csv',\n",
       " 'Vendas - Goiás.csv',\n",
       " 'Vendas - Porto Alegre.csv',\n",
       " 'Vendas - Recife.csv',\n",
       " 'Vendas - Rio de Janeiro.csv',\n",
       " 'Vendas - Salvador.csv',\n",
       " 'Vendas - São Paulo.csv']"
      ]
     },
     "metadata": {},
     "output_type": "display_data"
    }
   ],
   "source": [
    "#Lógica de Programação\n",
    "\n",
    "#Passo 0 - Entender o deasfio que quero resolver\n",
    "#Passo 1 - REcorrer todos os arquivos da pasta base de dados  (Vendas)\n",
    "import os\n",
    "\n",
    "lista_arquivos = os.listdir('H:/Vendas')\n",
    "display(lista_arquivos)\n",
    "\n",
    "\n"
   ]
  },
  {
   "cell_type": "markdown",
   "id": "07980892",
   "metadata": {},
   "source": [
    "#### Importar as bases de dados de Vendas"
   ]
  },
  {
   "cell_type": "code",
   "execution_count": 9,
   "id": "5ce81164",
   "metadata": {},
   "outputs": [
    {
     "name": "stdout",
     "output_type": "stream",
     "text": [
      "Arquivo de devolução\n",
      "Arquivo de devolução\n",
      "Arquivo de devolução\n",
      "Arquivo de devolução\n",
      "Arquivo de devolução\n",
      "Arquivo de devolução\n",
      "Arquivo de devolução\n",
      "Arquivo de devolução\n",
      "Arquivo de devolução\n"
     ]
    },
    {
     "data": {
      "text/plain": [
       "'Vendas/Vendas - Belo Horizonte.csv'"
      ]
     },
     "metadata": {},
     "output_type": "display_data"
    },
    {
     "data": {
      "text/plain": [
       "'Vendas/Vendas - Curitiba.csv'"
      ]
     },
     "metadata": {},
     "output_type": "display_data"
    },
    {
     "data": {
      "text/plain": [
       "'Vendas/Vendas - Fortaleza.csv'"
      ]
     },
     "metadata": {},
     "output_type": "display_data"
    },
    {
     "data": {
      "text/plain": [
       "'Vendas/Vendas - Goiás.csv'"
      ]
     },
     "metadata": {},
     "output_type": "display_data"
    },
    {
     "data": {
      "text/plain": [
       "'Vendas/Vendas - Porto Alegre.csv'"
      ]
     },
     "metadata": {},
     "output_type": "display_data"
    },
    {
     "data": {
      "text/plain": [
       "'Vendas/Vendas - Recife.csv'"
      ]
     },
     "metadata": {},
     "output_type": "display_data"
    },
    {
     "data": {
      "text/plain": [
       "'Vendas/Vendas - Rio de Janeiro.csv'"
      ]
     },
     "metadata": {},
     "output_type": "display_data"
    },
    {
     "data": {
      "text/plain": [
       "'Vendas/Vendas - Salvador.csv'"
      ]
     },
     "metadata": {},
     "output_type": "display_data"
    },
    {
     "data": {
      "text/plain": [
       "'Vendas/Vendas - São Paulo.csv'"
      ]
     },
     "metadata": {},
     "output_type": "display_data"
    }
   ],
   "source": [
    "#Passo 2  - Importar as bases de dados de Vendas\n",
    "\n",
    "for arquivo in lista_arquivos:\n",
    "#Se tem \"Vendas\" no nome do arquivo, importar o arquivo\n",
    "    if 'vendas' in arquivo.lower():\n",
    "        display(f\"Vendas/{arquivo}\")\n",
    "    else:\n",
    "        print(\"Arquivo de devolução\")\n",
    "\n"
   ]
  },
  {
   "cell_type": "markdown",
   "id": "3adb0220",
   "metadata": {},
   "source": [
    "#### Tratar/ Compilar as bases de dados"
   ]
  },
  {
   "cell_type": "code",
   "execution_count": null,
   "id": "8a4ac61f",
   "metadata": {},
   "outputs": [],
   "source": [
    "#Passo 3 - Tratar/ Compilar as bases de dados\n",
    "\n",
    "\n",
    "#Passo 4 - Calcular o produto mais vendido (em quantidades)\n",
    "#PAsso 5 - Calcular o produto que mais faturou (faturamento)\n",
    "#Passo 6 - Calcular a loja/cidade que mais vendeu(em faturamento) - Criar um grafico/dashboard"
   ]
  }
 ],
 "metadata": {
  "kernelspec": {
   "display_name": ".venv",
   "language": "python",
   "name": "python3"
  },
  "language_info": {
   "codemirror_mode": {
    "name": "ipython",
    "version": 3
   },
   "file_extension": ".py",
   "mimetype": "text/x-python",
   "name": "python",
   "nbconvert_exporter": "python",
   "pygments_lexer": "ipython3",
   "version": "3.13.2"
  }
 },
 "nbformat": 4,
 "nbformat_minor": 5
}
